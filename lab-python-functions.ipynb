{
 "cells": [
  {
   "cell_type": "markdown",
   "id": "25d7736c-ba17-4aff-b6bb-66eba20fbf4e",
   "metadata": {},
   "source": [
    "# Lab | Functions"
   ]
  },
  {
   "cell_type": "markdown",
   "id": "0c581062-8967-4d93-b06e-62833222f930",
   "metadata": {
    "tags": []
   },
   "source": [
    "## Exercise: Managing Customer Orders with Functions\n",
    "\n",
    "In the previous exercise, you improved the code for managing customer orders by using loops and flow control. Now, let's take it a step further and refactor the code by introducing functions.\n",
    "\n",
    "Follow the steps below to complete the exercise:\n",
    "\n",
    "1. Define a function named `initialize_inventory` that takes `products` as a parameter. Inside the function, implement the code for initializing the inventory dictionary using a loop and user input.\n",
    "\n",
    "2. Define a function named `get_customer_orders` that takes no parameters. Inside the function, implement the code for prompting the user to enter the product names using a loop. The function should return the `customer_orders` set.\n",
    "\n",
    "3. Define a function named `update_inventory` that takes `customer_orders` and `inventory` as parameters. Inside the function, implement the code for updating the inventory dictionary based on the customer orders.\n",
    "\n",
    "4. Define a function named `calculate_order_statistics` that takes `customer_orders` and `products` as parameters. Inside the function, implement the code for calculating the order statistics (total products ordered, and percentage of unique products ordered). The function should return these values.\n",
    "\n",
    "5. Define a function named `print_order_statistics` that takes `order_statistics` as a parameter. Inside the function, implement the code for printing the order statistics.\n",
    "\n",
    "6. Define a function named `print_updated_inventory` that takes `inventory` as a parameter. Inside the function, implement the code for printing the updated inventory.\n",
    "\n",
    "7. Call the functions in the appropriate sequence to execute the program and manage customer orders.\n",
    "\n",
    "Hints for functions:\n",
    "\n",
    "- Consider the input parameters required for each function and their return values.\n",
    "- Utilize function parameters and return values to transfer data between functions.\n",
    "- Test your functions individually to ensure they work correctly.\n",
    "\n",
    "\n"
   ]
  },
  {
   "cell_type": "markdown",
   "id": "5be0e998",
   "metadata": {},
   "source": []
  },
  {
   "cell_type": "markdown",
   "id": "24df9195",
   "metadata": {},
   "source": [
    "#### Step 1"
   ]
  },
  {
   "cell_type": "code",
   "execution_count": 85,
   "id": "08641629",
   "metadata": {},
   "outputs": [
    {
     "name": "stdout",
     "output_type": "stream",
     "text": [
      "Initial Inventory: {'t-shirt': 11, 'mug': 12, 'hat': 13, 'book': 14, 'keychain': 15}\n"
     ]
    }
   ],
   "source": [
    "products = ['t-shirt', 'mug', 'hat', 'book', 'keychain']\n",
    "\n",
    "inventory = {}\n",
    "\n",
    "def initialize_inventory(products):\n",
    "    \"\"\" Asks how many of each product there is and saves each product and the corresponding amount to the inventory dictionary.\"\"\"\n",
    "    for product in products:\n",
    "        amount = int(input(f\"Please input the number of {product}s:\"))\n",
    "        inventory[product] = amount\n",
    "    \n",
    "    return print(\"Initial Inventory:\",inventory)\n",
    "   \n",
    "\n",
    "initialize_inventory(products)\n"
   ]
  },
  {
   "cell_type": "markdown",
   "id": "b50addf6",
   "metadata": {},
   "source": [
    "#### Step 2"
   ]
  },
  {
   "cell_type": "code",
   "execution_count": 79,
   "id": "2e8ca76d",
   "metadata": {},
   "outputs": [
    {
     "name": "stdout",
     "output_type": "stream",
     "text": [
      "Thank you for placing an order with us! {'mug', 'hat'}\n"
     ]
    }
   ],
   "source": [
    "customer_orders = set()\n",
    "\n",
    "def get_customer_orders():\n",
    "    \"\"\"Prompts user to input products they want to order, and stores them in customer_orders list.\"\"\"\n",
    "    item = str(input(\"What would you like to order? Please type t-shirt, mug, hat, book, or keychain. \"))\n",
    "    customer_orders.add(item)\n",
    "    reply = str(input(\"Okay. I've added that to your order. Would you like to order anything else? Please type yes or no. \"))\n",
    "    while reply.lower() == \"yes\":\n",
    "        item = str(input(\"What would you like to order? Please type t-shirt, mug, hat, book, or keychain. \"))\n",
    "        customer_orders.add(item)\n",
    "        reply = str(input(\"Okay. I've added that to your order. Would you like to order anything else? Please type yes or no. \"))\n",
    "    else:\n",
    "        return print(\"Thank you for placing an order with us!\",customer_orders)\n",
    "\n",
    "get_customer_orders()"
   ]
  },
  {
   "cell_type": "markdown",
   "id": "a1511123",
   "metadata": {},
   "source": [
    "#### Step 3"
   ]
  },
  {
   "cell_type": "code",
   "execution_count": 87,
   "id": "17f0cc9a",
   "metadata": {},
   "outputs": [],
   "source": [
    "def update_inventory(customer_orders,inventory):\n",
    "    \"\"\" Updates inventory to reflect items ordered by customer. \"\"\"\n",
    "    for product in customer_orders:\n",
    "        inventory[product] -= 1\n",
    "\n",
    "update_inventory(customer_orders,inventory)"
   ]
  },
  {
   "cell_type": "markdown",
   "id": "7148bccd",
   "metadata": {},
   "source": [
    "#### Step 4"
   ]
  },
  {
   "cell_type": "code",
   "execution_count": 77,
   "id": "3a8a69fd",
   "metadata": {},
   "outputs": [
    {
     "data": {
      "text/plain": [
       "[3, 60.0]"
      ]
     },
     "execution_count": 77,
     "metadata": {},
     "output_type": "execute_result"
    }
   ],
   "source": [
    "# Really struggled with this one. Saving and calling lists worked everywhere else above, but not here. \n",
    "# Ironhack AI told me I needed to use the global keyword inside the function. \n",
    "\n",
    "order_statistics = []\n",
    "\n",
    "def calculate_order_statistics(customer_orders,products):\n",
    "    \"\"\"Calculates what percentage of unique products available were ordered by customer.\"\"\"\n",
    "    global order_statistics           # This pulls the global list order_statistics into my function.      \n",
    "    order_statistics = [len(customer_orders), ((len(customer_orders)/len(products))*100)]\n",
    "    \n",
    "    return order_statistics\n",
    "\n",
    "calculate_order_statistics(customer_orders,products)\n"
   ]
  },
  {
   "cell_type": "markdown",
   "id": "d6c58bcd",
   "metadata": {},
   "source": [
    "#### Step 5"
   ]
  },
  {
   "cell_type": "code",
   "execution_count": 67,
   "id": "92af79ff",
   "metadata": {},
   "outputs": [
    {
     "name": "stdout",
     "output_type": "stream",
     "text": [
      "Order Statistics:\n",
      "Total Products Ordered: 3\n",
      "Percentage of Total Products: 60.0\n"
     ]
    }
   ],
   "source": [
    "def print_order_statistics(order_statistics):\n",
    "    print(\"Order Statistics:\")\n",
    "    print(f\"Total Products Ordered: {order_statistics[0]}\")\n",
    "    print(f\"Percentage of Total Products: {order_statistics[1]}\")\n",
    "\n",
    "print_order_statistics(order_statistics)"
   ]
  },
  {
   "cell_type": "markdown",
   "id": "44f5ea0a",
   "metadata": {},
   "source": [
    "#### Step 6"
   ]
  },
  {
   "cell_type": "code",
   "execution_count": 89,
   "id": "52947ed8",
   "metadata": {},
   "outputs": [
    {
     "name": "stdout",
     "output_type": "stream",
     "text": [
      "Updated Inventory: {'t-shirt': 11, 'mug': 11, 'hat': 12, 'book': 14, 'keychain': 15}\n"
     ]
    }
   ],
   "source": [
    "def print_updated_inventory(inventory):\n",
    "    print(\"Updated Inventory:\", inventory)\n",
    "\n",
    "print_updated_inventory(inventory)"
   ]
  },
  {
   "cell_type": "markdown",
   "id": "91b4102a",
   "metadata": {},
   "source": [
    "#### Step 7"
   ]
  },
  {
   "cell_type": "code",
   "execution_count": 90,
   "id": "a68e1bbe",
   "metadata": {},
   "outputs": [
    {
     "name": "stdout",
     "output_type": "stream",
     "text": [
      "Initial Inventory: {'t-shirt': 11, 'mug': 12, 'hat': 13, 'book': 14, 'keychain': 15}\n",
      "Thank you for placing an order with us! {'mug', 'hat'}\n",
      "Order Statistics:\n",
      "Total Products Ordered: 2\n",
      "Percentage of Total Products: 40.0\n",
      "Updated Inventory: {'t-shirt': 11, 'mug': 11, 'hat': 12, 'book': 14, 'keychain': 15}\n"
     ]
    }
   ],
   "source": [
    "initialize_inventory(products)\n",
    "get_customer_orders()\n",
    "update_inventory(customer_orders,inventory)\n",
    "calculate_order_statistics(customer_orders,products)\n",
    "print_order_statistics(order_statistics)\n",
    "print_updated_inventory(inventory)\n"
   ]
  },
  {
   "cell_type": "code",
   "execution_count": null,
   "id": "972df82a",
   "metadata": {},
   "outputs": [],
   "source": []
  }
 ],
 "metadata": {
  "kernelspec": {
   "display_name": "Python 3 (ipykernel)",
   "language": "python",
   "name": "python3"
  },
  "language_info": {
   "codemirror_mode": {
    "name": "ipython",
    "version": 3
   },
   "file_extension": ".py",
   "mimetype": "text/x-python",
   "name": "python",
   "nbconvert_exporter": "python",
   "pygments_lexer": "ipython3",
   "version": "3.11.7"
  }
 },
 "nbformat": 4,
 "nbformat_minor": 5
}
